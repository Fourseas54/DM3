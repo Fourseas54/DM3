{
 "cells": [
  {
   "cell_type": "markdown",
   "id": "ed10d7a8",
   "metadata": {},
   "source": [
    "# 互评作业3：基于支持向量机的手写数字识别"
   ]
  },
  {
   "cell_type": "markdown",
   "id": "f9f944c9",
   "metadata": {},
   "source": [
    "项目地址：https://github.com/Fourseas54/DM3"
   ]
  },
  {
   "cell_type": "code",
   "execution_count": null,
   "id": "246e9f81",
   "metadata": {},
   "outputs": [],
   "source": [
    "!pip install scikit-learn"
   ]
  },
  {
   "cell_type": "code",
   "execution_count": 1,
   "id": "49a58780",
   "metadata": {},
   "outputs": [],
   "source": [
    "import numpy as np \n",
    "import struct \n",
    "from PIL import Image \n",
    "import os"
   ]
  },
  {
   "cell_type": "markdown",
   "id": "38284993",
   "metadata": {},
   "source": [
    "## 读取 MNIST 数据"
   ]
  },
  {
   "cell_type": "markdown",
   "id": "725e90b4",
   "metadata": {},
   "source": [
    "MNIST数据集并非由一般的图片格式组成，需要转化为图片，这里将其转换后保存为.png格式"
   ]
  },
  {
   "cell_type": "code",
   "execution_count": 2,
   "id": "313ef026",
   "metadata": {},
   "outputs": [],
   "source": [
    "def make_img(fn_img = \"train-images.idx3-ubyte\", \n",
    "             fn_label = \"train-labels.idx1-ubyte\", \n",
    "             size1 = 47040016, size2 = 60008, root = \"train\"):\n",
    "    fmt_img1 = \">IIII\"\n",
    "    offset_img1 = offset_label1= 0\n",
    "    fmt_label1 = \">II\"\n",
    "    data_file_size = str(size1 - 16) + \"B\"\n",
    "    labels_file_size = str(size2 - 8) + \"B\"\n",
    "    fmt_img2 = \">\" + data_file_size\n",
    "    offset_img2 = struct.calcsize(fmt_img1)\n",
    "    fmt_label2 = \">\" + labels_file_size\n",
    "    offset_label2 = struct.calcsize(fmt_label1)\n",
    "    with open(fn_img, 'rb') as f:\n",
    "        data_buf = f.read()\n",
    "    with open(fn_label, 'rb') as f:\n",
    "        label_buf = f.read()\n",
    "    magic_img, numImages, numRows, numColumns = struct.unpack_from(fmt_img1, data_buf, offset_img1) \n",
    "    datas = struct.unpack_from(fmt_img2, data_buf, offset_img2)\n",
    "    datas = np.array(datas).astype(np.uint8).reshape(numImages, 1, numRows, numColumns)\n",
    "    magic_label, numLabels = struct.unpack_from(fmt_label1, label_buf, offset_label1)\n",
    "    labels = struct.unpack_from(fmt_label2, label_buf, offset_label2)\n",
    "    labels = np.array(labels).astype(np.int64)\n",
    "    if not os.path.exists(root): \n",
    "        os.mkdir(root) \n",
    "    for i in range(10): \n",
    "        file_name = root + os.sep + str(i) \n",
    "        if not os.path.exists(file_name): \n",
    "            os.mkdir(file_name) \n",
    "    for ii in range(numLabels): \n",
    "        img = Image.fromarray(datas[ii, 0, 0:28, 0:28]) \n",
    "        label = labels[ii] \n",
    "        file_name = root + os.sep + str(label) + os.sep + str(ii).zfill(5) + '.png' \n",
    "        img.save(file_name)"
   ]
  },
  {
   "cell_type": "markdown",
   "id": "344ac9cd",
   "metadata": {},
   "source": [
    "## 划分训练集与测试集"
   ]
  },
  {
   "cell_type": "markdown",
   "id": "dcaffce1",
   "metadata": {},
   "source": [
    "本身数据集就已经分为训练集和测试机，比例约为6:1\n",
    "分别加载并对其数据格式进行转换"
   ]
  },
  {
   "cell_type": "code",
   "execution_count": 3,
   "id": "4da7e88b",
   "metadata": {},
   "outputs": [],
   "source": [
    "make_img(\"train-images.idx3-ubyte\",\"train-labels.idx1-ubyte\",47040016,60008,\"train\")\n",
    "make_img(\"t10k-images.idx3-ubyte\",\"t10k-labels.idx1-ubyte\",7840016,10008,\"test\")"
   ]
  },
  {
   "cell_type": "code",
   "execution_count": 14,
   "id": "b18a05eb",
   "metadata": {},
   "outputs": [],
   "source": [
    "from sklearn.svm import SVC\n",
    "import joblib\n",
    "from joblib import dump,load\n",
    "from sklearn.metrics import confusion_matrix, classification_report\n",
    "import glob\n",
    "import time"
   ]
  },
  {
   "cell_type": "markdown",
   "id": "73270c10",
   "metadata": {},
   "source": [
    "##  图片向量化与特征缩放"
   ]
  },
  {
   "cell_type": "markdown",
   "id": "6d99dc2a",
   "metadata": {},
   "source": [
    "DataLoader类用于将.png格式图片转换为向量，\n",
    "并对其进行归一化，转换为0-1之间的值"
   ]
  },
  {
   "cell_type": "code",
   "execution_count": 7,
   "id": "5b080779",
   "metadata": {},
   "outputs": [],
   "source": [
    "class DataLoader(object):\n",
    "    def get_data_labels(self, fpath = \"train\"):\n",
    "            paths = glob.glob(fpath + os.sep + \"*\")\n",
    "            X = []\n",
    "            y = []\n",
    "            for fpath in paths:\n",
    "                fs = self.get_files(fpath)\n",
    "                \n",
    "                for fn in fs:\n",
    "                    X.append(self.img2vec(fn))\n",
    "                label = np.repeat(int(os.path.basename(fpath)), len(fs))\n",
    "                y.append(label)\n",
    "            labels = y[0]\n",
    "            for i in range(len(y) - 1):\n",
    "                labels = np.append(labels, y[i + 1])\n",
    "            return np.array(X), labels\n",
    "    def img2vec(self, fn):\n",
    "            #将jpg等格式的图片转为向量\n",
    "            im = Image.open(fn).convert('L')\n",
    "            #归一化\n",
    "            im = Image.eval(im,(lambda x: x/float(254)))\n",
    "            im = im.resize((28,28))\n",
    "            tmp = np.array(im)\n",
    "            vec = tmp.ravel()\n",
    "            return vec\n",
    "    def get_files(self,dirs):\n",
    "            fpath = []\n",
    "            for file in os.listdir(dirs):\n",
    "                file = os.path.join(dirs,file)\n",
    "                fpath.append(file)\n",
    "            return fpath"
   ]
  },
  {
   "cell_type": "markdown",
   "id": "16a14560",
   "metadata": {},
   "source": [
    " ## 构建支持向量机模型"
   ]
  },
  {
   "cell_type": "markdown",
   "id": "2dc72a37",
   "metadata": {},
   "source": [
    "### 构建训练器模型"
   ]
  },
  {
   "cell_type": "code",
   "execution_count": 8,
   "id": "bf31118e",
   "metadata": {},
   "outputs": [],
   "source": [
    "class Trainer(object):\n",
    "    '''训练器;'''\n",
    "    def svc(self, x_train, y_train):\n",
    "        '''构建分类器'''\n",
    "        model = SVC(kernel = 'poly',degree = 4,probability= True)\n",
    "        model.fit(x_train, y_train)\n",
    "        return model\n",
    "    def save_model(self,model,filename):\n",
    "        dump(model, filename) \n",
    "    def load_model(self,filename):\n",
    "        clf = load(filename)\n",
    "        return clf"
   ]
  },
  {
   "cell_type": "markdown",
   "id": "17637120",
   "metadata": {},
   "source": [
    "### 构建测试模型"
   ]
  },
  {
   "cell_type": "code",
   "execution_count": 9,
   "id": "6e8b3e96",
   "metadata": {},
   "outputs": [],
   "source": [
    "class Tester(object):\n",
    "    '''测试器;'''\n",
    "    def __init__(self, model_path):\n",
    "        trainer = Trainer()      \n",
    "        self.clf = trainer.load_model(model_path)\n",
    "    def clf_metrics(self,X_test,y_test):\n",
    "        \"\"\"评估分类器效果\"\"\"\n",
    "        pred = self.clf.predict(X_test)\n",
    "        cnf_matrix = confusion_matrix(y_test, pred)\n",
    "        score = self.clf.score(X_test, y_test)\n",
    "        clf_repo = classification_report(y_test, pred)\n",
    "        return cnf_matrix, score, clf_repo"
   ]
  },
  {
   "cell_type": "markdown",
   "id": "36ecbce5",
   "metadata": {},
   "source": [
    "### 进行训练"
   ]
  },
  {
   "cell_type": "code",
   "execution_count": 10,
   "id": "63a50355",
   "metadata": {},
   "outputs": [],
   "source": [
    "loader = DataLoader()\n",
    "trainer = Trainer()\n",
    "X, y = loader.get_data_labels()\n",
    "clf = trainer.svc(X, y)"
   ]
  },
  {
   "cell_type": "markdown",
   "id": "1d97c3b9",
   "metadata": {},
   "source": [
    "### 保存模型，并进行测试"
   ]
  },
  {
   "cell_type": "code",
   "execution_count": 15,
   "id": "2202b8da",
   "metadata": {},
   "outputs": [],
   "source": [
    "trainer.save_model(clf, \"mnist_svm.m\")\n",
    "X_test, y_test = loader.get_data_labels(\"test\")\n",
    "tester = Tester(\"mnist_svm.m\")"
   ]
  },
  {
   "cell_type": "markdown",
   "id": "72ed4c3a",
   "metadata": {},
   "source": [
    "## 模型评估"
   ]
  },
  {
   "cell_type": "code",
   "execution_count": null,
   "id": "cb87a52c",
   "metadata": {},
   "outputs": [],
   "source": [
    "mt, score, repo = tester.clf_metrics(X_test, y_test)\n"
   ]
  },
  {
   "cell_type": "code",
   "execution_count": 21,
   "id": "a74dd90a",
   "metadata": {},
   "outputs": [
    {
     "name": "stdout",
     "output_type": "stream",
     "text": [
      "\n",
      "混淆矩阵:\n",
      "\n",
      " [[ 960    0    1    0    0   11    6    1    1    0]\n",
      " [   0 1123    2    2    0    1    4    0    3    0]\n",
      " [   6   19  978    2    1    1    5   12    8    0]\n",
      " [   0   10    1  974    0    9    0    9    4    3]\n",
      " [   1   11    3    0  949    0    5    1    1   11]\n",
      " [   4    5    3   10    1  857    5    0    6    1]\n",
      " [   5   16    1    0    5    6  923    0    2    0]\n",
      " [   0   32    9    2    2    0    0  973    0   10]\n",
      " [   3    6    1   10    7   13    0    2  928    4]\n",
      " [   5   12    1    4   18    4    1    7    5  952]]\n",
      "\n",
      "R2评估指数:\n",
      "\n",
      " 0.9617\n",
      "\n",
      "precision,recall以及F1-score:\n",
      "\n",
      "               precision    recall  f1-score   support\n",
      "\n",
      "           0       0.98      0.98      0.98       980\n",
      "           1       0.91      0.99      0.95      1135\n",
      "           2       0.98      0.95      0.96      1032\n",
      "           3       0.97      0.96      0.97      1010\n",
      "           4       0.97      0.97      0.97       982\n",
      "           5       0.95      0.96      0.96       892\n",
      "           6       0.97      0.96      0.97       958\n",
      "           7       0.97      0.95      0.96      1028\n",
      "           8       0.97      0.95      0.96       974\n",
      "           9       0.97      0.94      0.96      1009\n",
      "\n",
      "    accuracy                           0.96     10000\n",
      "   macro avg       0.96      0.96      0.96     10000\n",
      "weighted avg       0.96      0.96      0.96     10000\n",
      "\n"
     ]
    }
   ],
   "source": [
    "print(\"\\n混淆矩阵:\\n\\n\",mt)\n",
    "print(\"\\nR2评估指数:\\n\\n\",score)\n",
    "print(\"\\nprecision,recall以及F1-score:\\n\\n\",repo)"
   ]
  },
  {
   "cell_type": "code",
   "execution_count": null,
   "id": "ae825d4a",
   "metadata": {},
   "outputs": [],
   "source": []
  }
 ],
 "metadata": {
  "kernelspec": {
   "display_name": "Python 3 (ipykernel)",
   "language": "python",
   "name": "python3"
  },
  "language_info": {
   "codemirror_mode": {
    "name": "ipython",
    "version": 3
   },
   "file_extension": ".py",
   "mimetype": "text/x-python",
   "name": "python",
   "nbconvert_exporter": "python",
   "pygments_lexer": "ipython3",
   "version": "3.9.13"
  }
 },
 "nbformat": 4,
 "nbformat_minor": 5
}
